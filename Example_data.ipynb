{
 "cells": [
  {
   "cell_type": "code",
   "execution_count": 1,
   "metadata": {},
   "outputs": [
    {
     "name": "stdout",
     "output_type": "stream",
     "text": [
      "twostream_adam_fold10-0_batch2_lr0.001_seed64_private_data\n",
      "{'epochs': 200, 'batch_size': 2, 'batch_workers': 0, 'shuffle': True, 'drop_last': False, 'transform': True, 'binary_mask': False, 'extra_aug': False, 'datasplit_scheme': 'Test', 'test_split': 0.2, 'xfold': 10, 'fold_idx': 9, 'random_seed': 64}\n",
      "Train mode in data_aug fetcher.\n",
      "12\n",
      "['/home/zhilin/TopoTxR_backup/private-data/topo_mask/whole_256_th0.3_dim1_dil0_fv/AI_12_1_TDA.nii', '/home/zhilin/TopoTxR_backup/private-data/topo_mask/whole_256_th0.3_dim1_dil0_fv/AI_110_0_TDA.nii', '/home/zhilin/TopoTxR_backup/private-data/topo_mask/whole_256_th0.3_dim1_dil0_fv/AI_15_0_TDA.nii', '/home/zhilin/TopoTxR_backup/private-data/topo_mask/whole_256_th0.3_dim1_dil0_fv/AI_41_0_TDA.nii', '/home/zhilin/TopoTxR_backup/private-data/topo_mask/whole_256_th0.3_dim1_dil0_fv/AI_61_1_TDA.nii', '/home/zhilin/TopoTxR_backup/private-data/topo_mask/whole_256_th0.3_dim1_dil0_fv/AI_101_1_TDA.nii', '/home/zhilin/TopoTxR_backup/private-data/topo_mask/whole_256_th0.3_dim1_dil0_fv/AI_64_0_TDA.nii', '/home/zhilin/TopoTxR_backup/private-data/topo_mask/whole_256_th0.3_dim1_dil0_fv/AI_131_1_TDA.nii', '/home/zhilin/TopoTxR_backup/private-data/topo_mask/whole_256_th0.3_dim1_dil0_fv/AI_68_0_TDA.nii', '/home/zhilin/TopoTxR_backup/private-data/topo_mask/whole_256_th0.3_dim1_dil0_fv/AI_51_0_TDA.nii', '/home/zhilin/TopoTxR_backup/private-data/topo_mask/whole_256_th0.3_dim1_dil0_fv/AI_119_0_TDA.nii', '/home/zhilin/TopoTxR_backup/private-data/topo_mask/whole_256_th0.3_dim1_dil0_fv/AI_83_1_TDA.nii']\n",
      "[1 0 0 0 1 1 0 1 0 0 0 1]\n",
      "Train mode in data_aug fetcher.\n",
      "12\n",
      "['/home/zhilin/TopoTxR_backup/private-data/topo_mask/whole_256_th0.3_dim2_dil0_fv/AI_12_1_TDA.nii', '/home/zhilin/TopoTxR_backup/private-data/topo_mask/whole_256_th0.3_dim2_dil0_fv/AI_110_0_TDA.nii', '/home/zhilin/TopoTxR_backup/private-data/topo_mask/whole_256_th0.3_dim2_dil0_fv/AI_15_0_TDA.nii', '/home/zhilin/TopoTxR_backup/private-data/topo_mask/whole_256_th0.3_dim2_dil0_fv/AI_41_0_TDA.nii', '/home/zhilin/TopoTxR_backup/private-data/topo_mask/whole_256_th0.3_dim2_dil0_fv/AI_61_1_TDA.nii', '/home/zhilin/TopoTxR_backup/private-data/topo_mask/whole_256_th0.3_dim2_dil0_fv/AI_101_1_TDA.nii', '/home/zhilin/TopoTxR_backup/private-data/topo_mask/whole_256_th0.3_dim2_dil0_fv/AI_64_0_TDA.nii', '/home/zhilin/TopoTxR_backup/private-data/topo_mask/whole_256_th0.3_dim2_dil0_fv/AI_131_1_TDA.nii', '/home/zhilin/TopoTxR_backup/private-data/topo_mask/whole_256_th0.3_dim2_dil0_fv/AI_68_0_TDA.nii', '/home/zhilin/TopoTxR_backup/private-data/topo_mask/whole_256_th0.3_dim2_dil0_fv/AI_51_0_TDA.nii', '/home/zhilin/TopoTxR_backup/private-data/topo_mask/whole_256_th0.3_dim2_dil0_fv/AI_119_0_TDA.nii', '/home/zhilin/TopoTxR_backup/private-data/topo_mask/whole_256_th0.3_dim2_dil0_fv/AI_83_1_TDA.nii']\n",
      "[1 0 0 0 1 1 0 1 0 0 0 1]\n"
     ]
    },
    {
     "name": "stderr",
     "output_type": "stream",
     "text": [
      "/home/zhilin/anaconda3/envs/topotxr/lib/python3.8/site-packages/monai/utils/deprecate_utils.py:107: FutureWarning: <class 'monai.transforms.utility.array.AddChannel'>: Class `AddChannel` has been deprecated since version 0.8. please use MetaTensor data type and monai.transforms.EnsureChannelFirst instead.\n",
      "  warn_deprecated(obj, msg, warning_category)\n"
     ]
    },
    {
     "name": "stdout",
     "output_type": "stream",
     "text": [
      "[0/200][1/54] Step: 2\n"
     ]
    },
    {
     "ename": "UnboundLocalError",
     "evalue": "local variable 'path_test' referenced before assignment",
     "output_type": "error",
     "traceback": [
      "\u001b[0;31m---------------------------------------------------------------------------\u001b[0m",
      "\u001b[0;31mUnboundLocalError\u001b[0m                         Traceback (most recent call last)",
      "Cell \u001b[0;32mIn[1], line 73\u001b[0m\n\u001b[1;32m     68\u001b[0m \u001b[39m# cnn = CNN(general, [arch1, arch2])\u001b[39;00m\n\u001b[1;32m     69\u001b[0m \u001b[39m# cnn.train(data_params)\u001b[39;00m\n\u001b[1;32m     70\u001b[0m \n\u001b[1;32m     71\u001b[0m \u001b[39m####attention\u001b[39;00m\n\u001b[1;32m     72\u001b[0m cnn_att \u001b[39m=\u001b[39m CNN(general, arch_list)\n\u001b[0;32m---> 73\u001b[0m cnn_att\u001b[39m.\u001b[39;49mtrain(data_params)\n",
      "File \u001b[0;32m/tmp/ipykernel_1573449/2629341768.py:107\u001b[0m, in \u001b[0;36mCNN.train\u001b[0;34m(self, data_params, branch_name)\u001b[0m\n\u001b[1;32m    104\u001b[0m     \u001b[39mif\u001b[39;00m label_test\u001b[39m.\u001b[39mshape[\u001b[39m0\u001b[39m] \u001b[39m==\u001b[39m \u001b[39m1\u001b[39m:\n\u001b[1;32m    105\u001b[0m         \u001b[39mcontinue\u001b[39;00m\n\u001b[0;32m--> 107\u001b[0m     path_test_cum \u001b[39m+\u001b[39m\u001b[39m=\u001b[39m path_test\n\u001b[1;32m    108\u001b[0m     label_test_cum \u001b[39m=\u001b[39m np\u001b[39m.\u001b[39mconcatenate((label_test_cum, label_test))\n\u001b[1;32m    110\u001b[0m msg_label \u001b[39m=\u001b[39m (\u001b[39m\"\u001b[39m\u001b[39mtest_label: \u001b[39m\u001b[39m{}\u001b[39;00m\u001b[39m\"\u001b[39m\u001b[39m.\u001b[39mformat(label_test_cum))\n",
      "\u001b[0;31mUnboundLocalError\u001b[0m: local variable 'path_test' referenced before assignment"
     ]
    }
   ],
   "source": [
    "%run Archpool.ipynb\n",
    "%run Argparser.ipynb\n",
    "%run FileIO.ipynb\n",
    "%run CNN.ipynb\n",
    "%run CNN_data.ipynb\n",
    "####### Net.ipynb for focal loss and Data.ipynb for augmentation (focal alpha for label 0 and 1- alpha for label 1),\n",
    "####### when not attention, set theta == 0.0,\n",
    "####### \n",
    "import torch\n",
    "torch.set_num_threads(4)\n",
    "torch.cuda.set_device(7)\n",
    "\n",
    "settings    = return_settings()\n",
    "parser      = Argparser(settings)\n",
    "general     = return_general(0)\n",
    "arch_list = []\n",
    "\n",
    "if general['attention']==1:\n",
    "    print('Use attention1 module>>>>>>>>>>>>>>>>>>>>>>>>>')\n",
    "    arch0       = return_arch(17)            #################attention\n",
    "    arch_list.append(arch0)\n",
    "    arch2       = return_arch(16)\n",
    "    arch_list.append(arch2)\n",
    "elif general['attention']==2:\n",
    "    print('Use attention2 module>>>>>>>>>>>>>>>>>>>>>>>>>')\n",
    "    arch0       = return_arch(18)               #################attention_split\n",
    "    arch1       = return_arch(19)\n",
    "    arch_list.append(arch0)\n",
    "    arch_list.append(arch1)\n",
    "    arch2       = return_arch(16)\n",
    "    arch_list.append(arch2)\n",
    "elif general['attention']==3:\n",
    "    print('Use attention3 module>>>>>>>>>>>>>>>>>>>>>>>>>')\n",
    "    arch0       = return_arch(20)            #################attention_multi\n",
    "    arch_list.append(arch0)\n",
    "    arch2       = return_arch(16)\n",
    "    arch_list.append(arch2)\n",
    "elif general['attention']==4:\n",
    "    print('Use attention4 module>>>>>>>>>>>>>>>>>>>>>>>>>')\n",
    "    arch0       = return_arch(17)            #################attention onestream\n",
    "    arch_list.append(arch0)\n",
    "    arch2       = return_arch(21)\n",
    "    arch_list.append(arch2)\n",
    "elif general['attention']==5:\n",
    "    print('Use attention5 module>>>>>>>>>>>>>>>>>>>>>>>>>')\n",
    "    arch0       = return_arch(17)            #################attention_self\n",
    "    arch_list.append(arch0)\n",
    "    arch2       = return_arch(21)\n",
    "    arch_list.append(arch2)\n",
    "elif general['attention']==6:\n",
    "    print('Use 3D CNN module>>>>>>>>>>>>>>>>>>>>>>>>>')\n",
    "    arch0       = return_arch(15)            #################One stream CNN\n",
    "    arch_list.append(arch0)\n",
    "    arch2       = return_arch(21)\n",
    "    arch_list.append(arch2)\n",
    "else:\n",
    "    arch0       = return_arch(15)              ##################original\n",
    "    arch_list.append(arch0)\n",
    "    arch2       = return_arch(16)\n",
    "    arch_list.append(arch2)\n",
    "\n",
    "\n",
    "data_params = return_data_settings(0)\n",
    "\n",
    "print(settings['Basic']['branch_name'])\n",
    "print(data_params)\n",
    "\n",
    "# cnn = CNN(general, [arch1, arch2])\n",
    "# cnn.train(data_params)\n",
    "\n",
    "####attention\n",
    "cnn_att = CNN(general, arch_list)\n",
    "cnn_att.train(data_params)"
   ]
  }
 ],
 "metadata": {
  "kernelspec": {
   "display_name": "topotxr",
   "language": "python",
   "name": "python3"
  },
  "language_info": {
   "codemirror_mode": {
    "name": "ipython",
    "version": 3
   },
   "file_extension": ".py",
   "mimetype": "text/x-python",
   "name": "python",
   "nbconvert_exporter": "python",
   "pygments_lexer": "ipython3",
   "version": "3.8.15"
  }
 },
 "nbformat": 4,
 "nbformat_minor": 2
}
